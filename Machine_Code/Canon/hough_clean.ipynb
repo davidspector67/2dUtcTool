{
 "cells": [
  {
   "cell_type": "code",
   "execution_count": 1,
   "metadata": {},
   "outputs": [],
   "source": [
    "import cv2\n",
    "import numpy as np\n",
    "\n",
    "from tkinter import Tk\n",
    "from tkinter.filedialog import askopenfilename\n",
    "\n",
    "import matplotlib.pyplot as plt"
   ]
  },
  {
   "cell_type": "code",
   "execution_count": 2,
   "metadata": {},
   "outputs": [],
   "source": [
    "class Line:\n",
    "    def __init__(self, x1, y1, x2, y2):\n",
    "        self.x1 = x1\n",
    "        self.y1 = y1\n",
    "        self.x2 = x2\n",
    "        self.y2 = y2\n",
    "    \n",
    "    def get_coords(self):\n",
    "        return [(self.x1, self.y1), (self.x2, self.y2)]\n",
    "    \n",
    "    def get_equation(self):\n",
    "        m = (self.y2 - self.y1) / (self.x2 - self.x1)\n",
    "        b = self.y1 - m * self.x1\n",
    "        return m, b"
   ]
  },
  {
   "cell_type": "code",
   "execution_count": 3,
   "metadata": {},
   "outputs": [],
   "source": [
    "def detect(img_arr, gray_arr, filter, angle1=0, angle2=np.pi, req=0): #req = 0, 1, or 2\n",
    "    ret_line = None\n",
    "    \n",
    "    filtered = cv2.filter2D(src=gray_arr, ddepth=-1, kernel=filter)\n",
    "    cv2.imwrite(\"show_blurred_\" + str(req) + \".png\", filtered)\n",
    "\n",
    "    # Find the edges in the image using canny detector\n",
    "    img = img_arr.copy()\n",
    "    thresh1 = 35\n",
    "    thresh2 = 60\n",
    "    if req == 2:\n",
    "        thresh1 = 30\n",
    "        thresh2 = 50\n",
    "    edges = cv2.Canny(filtered, thresh1, thresh2)\n",
    "\n",
    "    # Detect points that form a line\n",
    "    threshold = 40\n",
    "    lines = cv2.HoughLines(edges, 1, np.pi/180, threshold, min_theta=angle1, max_theta=angle2)\n",
    "\n",
    "    try:\n",
    "        for line in lines:\n",
    "            try:\n",
    "                rho, theta = line[0]\n",
    "                a = np.cos(theta)\n",
    "                b = np.sin(theta)\n",
    "                x0 = a*rho\n",
    "                y0 = b*rho\n",
    "                x1 = int(x0 + 1000*(-b))\n",
    "                y1 = int(y0 + 1000*(a))\n",
    "                x2 = int(x0 - 1000*(-b))\n",
    "                y2 = int(y0 - 1000*(a))\n",
    "                if (req == 0) or (req == 1 and x1 < image.shape[1]/3) or (req == 2 and x1 > image.shape[1]*2/3):\n",
    "                    cv2.line(img, (x1, y1), (x2, y2), (0, 0, 255), 3)\n",
    "                    ret_line = Line(x1, y1, x2, y2)\n",
    "                    break\n",
    "            except:\n",
    "                i = 0\n",
    "    except:\n",
    "        i = 0\n",
    "    # Show result\n",
    "    cv2.imwrite(\"show_edges_\" + str(req) + \".png\", edges)\n",
    "    return img, ret_line"
   ]
  },
  {
   "cell_type": "markdown",
   "metadata": {},
   "source": [
    "def detect(img_arr, filter, angle1, angle2, req): #req = 0, 1, or 2\n",
    "    filtered = cv2.filter2D(src=img_arr, ddepth=-1, kernel=filter)\n",
    "    \n",
    "    return"
   ]
  },
  {
   "cell_type": "code",
   "execution_count": 4,
   "metadata": {},
   "outputs": [],
   "source": [
    "kernel0 = np.array([[0, 0, 0, 0, 0, 0, 0, 0, 0, 0, 0, 0],\n",
    "                    [0, 0, 0, 0, 0, 0, 0, 0, 0, 0, 0, 0],\n",
    "                    [0, 0, 0, 0, 0, 0, 0, 0, 0, 0, 0, 0],\n",
    "                    [1, 1, 1, 1, 1, 1, 1, 1, 1, 1, 1, 1],\n",
    "                    [1, 1, 1, 1, 1, 1, 1, 1, 1, 1, 1, 1],\n",
    "                    [1, 1, 1, 1, 1, 1, 1, 1, 1, 1, 1, 1],\n",
    "                    [1, 1, 1, 1, 1, 1, 1, 1, 1, 1, 1, 1],\n",
    "                    [1, 1, 1, 1, 1, 1, 1, 1, 1, 1, 1, 1],\n",
    "                    [1, 1, 1, 1, 1, 1, 1, 1, 1, 1, 1, 1],\n",
    "                    [0, 0, 0, 0, 0, 0, 0, 0, 0, 0, 0, 0],\n",
    "                    [0, 0, 0, 0, 0, 0, 0, 0, 0, 0, 0, 0],\n",
    "                    [0, 0, 0, 0, 0, 0, 0, 0, 0, 0, 0, 0]])/72\n",
    "kernel1 = np.array([[0, 0, 0, 0, 0, 0, 1, 1, 1, 1, 1, 1],\n",
    "                    [0, 0, 0, 0, 0, 0, 1, 1, 1, 1, 1, 1],\n",
    "                    [0, 0, 0, 0, 0, 0, 1, 1, 1, 1, 1, 1],\n",
    "                    [0, 0, 0, 0, 0, 0, 1, 1, 1, 1, 1, 1],\n",
    "                    [0, 0, 0, 0, 0, 0, 1, 1, 1, 1, 1, 1],\n",
    "                    [0, 0, 0, 0, 0, 0, 1, 1, 1, 1, 1, 1],\n",
    "                    [0, 0, 0, 0, 0, 0, 1, 1, 1, 1, 1, 1],\n",
    "                    [0, 0, 0, 0, 0, 0, 1, 1, 1, 1, 1, 1],\n",
    "                    [0, 0, 0, 0, 0, 0, 1, 1, 1, 1, 1, 1],\n",
    "                    [0, 0, 0, 0, 0, 0, 1, 1, 1, 1, 1, 1],\n",
    "                    [0, 0, 0, 0, 0, 0, 1, 1, 1, 1, 1, 1],\n",
    "                    [0, 0, 0, 0, 0, 0, 1, 1, 1, 1, 1, 1]])/72\n",
    "kernel2 = np.array([[1, 1, 1, 1, 1, 1, 0, 0, 0, 0, 0, 0],\n",
    "                    [1, 1, 1, 1, 1, 1, 0, 0, 0, 0, 0, 0],\n",
    "                    [1, 1, 1, 1, 1, 1, 0, 0, 0, 0, 0, 0],\n",
    "                    [1, 1, 1, 1, 1, 1, 0, 0, 0, 0, 0, 0],\n",
    "                    [1, 1, 1, 1, 1, 1, 0, 0, 0, 0, 0, 0],\n",
    "                    [1, 1, 1, 1, 1, 1, 0, 0, 0, 0, 0, 0],\n",
    "                    [1, 1, 1, 1, 1, 1, 0, 0, 0, 0, 0, 0],\n",
    "                    [1, 1, 1, 1, 1, 1, 0, 0, 0, 0, 0, 0],\n",
    "                    [1, 1, 1, 1, 1, 1, 0, 0, 0, 0, 0, 0],\n",
    "                    [1, 1, 1, 1, 1, 1, 0, 0, 0, 0, 0, 0],\n",
    "                    [1, 1, 1, 1, 1, 1, 0, 0, 0, 0, 0, 0],\n",
    "                    [1, 1, 1, 1, 1, 1, 0, 0, 0, 0, 0, 0]])/72"
   ]
  },
  {
   "cell_type": "code",
   "execution_count": 5,
   "metadata": {},
   "outputs": [
    {
     "data": {
      "text/plain": [
       "True"
      ]
     },
     "execution_count": 5,
     "metadata": {},
     "output_type": "execute_result"
    }
   ],
   "source": [
    "# Read image \n",
    "Tk().withdraw() # we don't want a full GUI, so keep the root window from appearing\n",
    "file = askopenfilename() # show an \"Open\" dialog box and return the path to the selected file\n",
    "image = cv2.imread(file, cv2.IMREAD_COLOR)\n",
    "# Convert the image to gray-scale\n",
    "gray = cv2.cvtColor(image, cv2.COLOR_BGR2GRAY)\n",
    "image, bottom = detect(image, gray, kernel0, angle1=np.pi*7/16, angle2=np.pi*9/16)\n",
    "image, left = detect(image, gray, kernel1, angle1=np.pi*7/8, angle2=np.pi*9/8, req=1)\n",
    "image, right = detect(image, gray, kernel2, angle1=np.pi*7/8, angle2=np.pi*9/8, req=2)\n",
    "cv2.imwrite(\"show_result.png\", image)"
   ]
  },
  {
   "cell_type": "code",
   "execution_count": 46,
   "metadata": {},
   "outputs": [],
   "source": [
    "def in_tube(curr_x, curr_y, bottom, left, right): #assumes x and y are within the boundaries of the image\n",
    "    m, b = bottom.get_equation()\n",
    "    if curr_y >= (m * curr_x + b):\n",
    "        return False\n",
    "    \n",
    "    m, b = left.get_equation()\n",
    "    #if curr_x <= (m * left.x1 + curr_y - left.y1) / m:\n",
    "    if curr_x <= (curr_y - b) / m:\n",
    "        return False\n",
    "    \n",
    "    m, b = right.get_equation()\n",
    "    #if curr_x >= (m * right.x1 + curr_y - right.y1) / m:\n",
    "    if curr_x >= (curr_y - b) / m:\n",
    "        return False\n",
    "    \n",
    "    return True"
   ]
  },
  {
   "cell_type": "code",
   "execution_count": 47,
   "metadata": {},
   "outputs": [
    {
     "ename": "",
     "evalue": "",
     "output_type": "error",
     "traceback": [
      "\u001b[1;31mThe Kernel crashed while executing code in the the current cell or a previous cell. Please review the code in the cell(s) to identify a possible cause of the failure. Click <a href='https://aka.ms/vscodeJupyterKernelCrash'>here</a> for more info. View Jupyter <a href='command:jupyter.viewOutput'>log</a> for further details."
     ]
    }
   ],
   "source": [
    "color = np.zeros(image.shape)\n",
    "#mask = np.full(image.shape, 0.5)\n",
    "mask = np.zeros(image.shape)\n",
    "for i in range(len(mask)):\n",
    "    for j in range(len(mask[i])):\n",
    "        if in_tube(j, i, bottom, left, right):\n",
    "            #mask[i][j] = 0\n",
    "            mask[i][j] = 1\n",
    "#plt.imshow(color, cmap='Greys_r', alpha=mask)\n",
    "plt.imsave(\"mask.png\", mask, cmap='Greys_r')"
   ]
  },
  {
   "cell_type": "code",
   "execution_count": 16,
   "metadata": {},
   "outputs": [
    {
     "name": "stdout",
     "output_type": "stream",
     "text": [
      "-1033 365 959 531\n",
      "200 -989 78 1006\n",
      "649 -972 561 1025\n"
     ]
    }
   ],
   "source": [
    "print(str(bottom.x1) + \" \" + str(bottom.y1) + \" \" + str(bottom.x2) + \" \" + str(bottom.y2))\n",
    "print(str(left.x1) + \" \" + str(left.y1) + \" \" + str(left.x2) + \" \" + str(left.y2))\n",
    "print(str(right.x1) + \" \" + str(right.y1) + \" \" + str(right.x2) + \" \" + str(right.y2))"
   ]
  },
  {
   "cell_type": "code",
   "execution_count": 21,
   "metadata": {},
   "outputs": [
    {
     "data": {
      "text/plain": [
       "True"
      ]
     },
     "execution_count": 21,
     "metadata": {},
     "output_type": "execute_result"
    }
   ],
   "source": [
    "image2 = image.copy()\n",
    "cv2.line(image2, (bottom.x1, bottom.y1), (bottom.x2, bottom.y2), (255, 0, 0), 3)\n",
    "cv2.line(image2, (left.x1, left.y1), (left.x2, left.y2), (0, 255, 0), 3)\n",
    "cv2.line(image2, (right.x1, right.y1), (right.x2, right.y2), (0, 255, 255), 3)\n",
    "cv2.imwrite(\"color_coding.png\", image2)"
   ]
  },
  {
   "cell_type": "code",
   "execution_count": 26,
   "metadata": {},
   "outputs": [
    {
     "name": "stdout",
     "output_type": "stream",
     "text": [
      "0.08333333333333333\n",
      "451.0833333333333\n"
     ]
    }
   ],
   "source": [
    "m, b = bottom.get_equation()\n",
    "print(m)\n",
    "print(b)"
   ]
  },
  {
   "cell_type": "code",
   "execution_count": 39,
   "metadata": {},
   "outputs": [
    {
     "name": "stdout",
     "output_type": "stream",
     "text": [
      "True\n"
     ]
    }
   ],
   "source": [
    "test_x = 0\n",
    "test_y = 0\n",
    "if test_y >= (m * test_x + b):\n",
    "    print(False)\n",
    "else:\n",
    "    print(True)"
   ]
  },
  {
   "cell_type": "code",
   "execution_count": 43,
   "metadata": {},
   "outputs": [
    {
     "data": {
      "text/plain": [
       "False"
      ]
     },
     "execution_count": 43,
     "metadata": {},
     "output_type": "execute_result"
    }
   ],
   "source": [
    "in_tube(0, 500, bottom, left, right)"
   ]
  }
 ],
 "metadata": {
  "kernelspec": {
   "display_name": "Python 3.9.6 64-bit",
   "language": "python",
   "name": "python3"
  },
  "language_info": {
   "codemirror_mode": {
    "name": "ipython",
    "version": 3
   },
   "file_extension": ".py",
   "mimetype": "text/x-python",
   "name": "python",
   "nbconvert_exporter": "python",
   "pygments_lexer": "ipython3",
   "version": "3.9.6"
  },
  "vscode": {
   "interpreter": {
    "hash": "7812ea015bdcee6f23a998adcdd2ef97c151c0c241b7b7070987d9313e41299d"
   }
  }
 },
 "nbformat": 4,
 "nbformat_minor": 4
}
